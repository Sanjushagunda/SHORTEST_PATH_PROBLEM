{
  "metadata": {
    "language_info": {
      "codemirror_mode": {
        "name": "python",
        "version": 3
      },
      "file_extension": ".py",
      "mimetype": "text/x-python",
      "name": "python",
      "nbconvert_exporter": "python",
      "pygments_lexer": "ipython3",
      "version": "3.8"
    },
    "kernelspec": {
      "name": "python",
      "display_name": "Pyolite",
      "language": "python"
    }
  },
  "nbformat_minor": 4,
  "nbformat": 4,
  "cells": [
    {
      "cell_type": "code",
      "source": "\"\"\"\nCreated on November 18th 2022 at 5:07 PM\n\nBy\nSanjusha,Uday kumar,Manvitha,Abhinay \n\n\"\"\"\nimport pandas as pd\nimport numpy as np\nimport csv\nfrom gurobipy import *\n\n# ***READING THE DATA FROM INPUT FILE***\n\nBiginstance_File = open(\"biginstance.gr\",\"r\") # This opens the data from given .gr input file\n\nNoised_Data = Biginstance_File.readlines()[6:] # This reads all the lines starting from Line 7\n\nNodes_Line = Noised_Data[0].strip().split(\" \")\nNodes = int(Nodes_Line[2]) # This gives the value for Number of Nodes\n\n# The following code reads the data from the input file and stores the arcs into a tuple list and respective costs into a dictionary\nArcs_Cost_Data = Noised_Data[1:]\nArcs_Cost = []\nfor i in Arcs_Cost_Data:\n    i=i.strip().split(\" \")\n    Arcs_Cost.append(i)\nOrigin = int(input(\"Enter the Source Node:\"))\nArcs = tuplelist()\nCosts = {}\nfor i in Arcs_Cost:\n    From_Node = int(i[1])\n    To_Node = int(i[2])\n    Cost = float(i[3])\n    Arcs.append((From_Node,To_Node))\n    Costs[From_Node,To_Node] = Cost\n    \nBiginstance_File.close()\n\n# ***USING GUROBI SOLVER TO PERFORM OPTIMIZATON***\n\n# Creating a New Model\nm = Model('Single Source Shortest Path')\n\n# Defining the Decision Variables and Objective Function\nx = m.addVars(Arcs, lb=0, obj=Costs, name =\"Network Flow\")\n\n# Defining the Constraints\nfor i in range(1, Nodes+1):\n    m.addConstr( sum(x[i,j] for i,j in Arcs.select(i, '*')) - sum(x[j,i] for j,i in Arcs.select('*',i)) == \n                     (Nodes-1 if i==Origin else -1 ),'node%s_' % i )\n    \n# To formulate the mathematical model in LP format\nm.write(\"Single_Source_Shortest_Path.lp\")\n\n#Call Gurobi Optimizer\nm.optimize()\n\n# Write Output if termination is optimal\nOutput=[(Origin,\" \")] # This results in a output which is a list of tuples\nif m.status == GRB.Status.OPTIMAL:\n    for i,j in Arcs:\n        if(x[i,j].x > 0):\n            Output.append((j,i))\n            \nelif m.status == GRB.INFEASIBLE:\n        print('LP is infeasible.')\n        \nelif m.status == GRB.UNBOUNDED:\n        print('LP is unbounded.')\n\n# ***WRITING THE OUTPUT INTO A .CSV FILE***\n\nOutput = [list(i) for i in Output] # This converts the list of tuples into list of lists\n\nData_Frame = pd.DataFrame(list())\nData_Frame.to_csv('Single Source Shortest Path Problem.csv')\n\nwith open(\"Single Source Shortest Path Problem.csv\",'w',newline='') as o:\n    Out=csv.writer(o)\n    Out.writerow([\"Node ID\",\"Predecessor ID\"])\n    Out.writerows(Output)",
      "metadata": {},
      "execution_count": null,
      "outputs": []
           },
    {
      "cell_type": "code",
      "source": "",
      "metadata": {},
      "execution_count": null,
      "outputs": []
    },
    {
      "cell_type": "code",
      "source": "",
      "metadata": {},
      "execution_count": null,
      "outputs": []
    }
  ]
}
